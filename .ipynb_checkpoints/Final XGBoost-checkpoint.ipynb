{
 "cells": [
  {
   "cell_type": "code",
   "execution_count": 1,
   "metadata": {},
   "outputs": [],
   "source": [
    "import os\n",
    "FRAUD_PATH = os.path.join(\"datasets\",\"fraud\")"
   ]
  },
  {
   "cell_type": "code",
   "execution_count": 2,
   "metadata": {},
   "outputs": [],
   "source": [
    "import pandas as pd\n",
    "\n",
    "def load_project_data(filename, fraud_path=FRAUD_PATH):\n",
    "    csv_path = os.path.join(fraud_path,filename)\n",
    "    return pd.read_csv(csv_path)\n"
   ]
  },
  {
   "cell_type": "code",
   "execution_count": 3,
   "metadata": {},
   "outputs": [],
   "source": [
    "train_identity = load_project_data(\"train_identity.csv\")\n",
    "train_transactions = load_project_data(\"train_transaction.csv\")"
   ]
  },
  {
   "cell_type": "code",
   "execution_count": 4,
   "metadata": {},
   "outputs": [
    {
     "name": "stdout",
     "output_type": "stream",
     "text": [
      "Train shape  (590540, 434)\n"
     ]
    }
   ],
   "source": [
    "import gc\n",
    "train=train_transactions.merge(train_identity,how='left',on='TransactionID')\n",
    "\n",
    "\n",
    "del train_transactions,train_identity\n",
    "gc.collect\n",
    "\n",
    "print('Train shape ',train.shape)\n",
    "\n",
    "\n",
    "\n",
    "\n",
    "\n",
    "\n"
   ]
  },
  {
   "cell_type": "code",
   "execution_count": 5,
   "metadata": {},
   "outputs": [],
   "source": [
    "def reduce_mem_usage(df, verbose=True):\n",
    "    numerics = ['int16', 'int32', 'int64', 'float16', 'float32', 'float64']\n",
    "    start_mem = df.memory_usage().sum() / 1024**2    \n",
    "    for col in df.columns:\n",
    "        col_type = df[col].dtypes\n",
    "        if col_type in numerics:\n",
    "            c_min = df[col].min()\n",
    "            c_max = df[col].max()\n",
    "            if str(col_type)[:3] == 'int':\n",
    "                if c_min > np.iinfo(np.int8).min and c_max < np.iinfo(np.int8).max:\n",
    "                    df[col] = df[col].astype(np.int8)\n",
    "                elif c_min > np.iinfo(np.int16).min and c_max < np.iinfo(np.int16).max:\n",
    "                    df[col] = df[col].astype(np.int16)\n",
    "                elif c_min > np.iinfo(np.int32).min and c_max < np.iinfo(np.int32).max:\n",
    "                    df[col] = df[col].astype(np.int32)\n",
    "                elif c_min > np.iinfo(np.int64).min and c_max < np.iinfo(np.int64).max:\n",
    "                    df[col] = df[col].astype(np.int64)  \n",
    "            else:\n",
    "                if c_min > np.finfo(np.float16).min and c_max < np.finfo(np.float16).max:\n",
    "                    df[col] = df[col].astype(np.float16)\n",
    "                elif c_min > np.finfo(np.float32).min and c_max < np.finfo(np.float32).max:\n",
    "                    df[col] = df[col].astype(np.float32)\n",
    "                else:\n",
    "                    df[col] = df[col].astype(np.float64)    \n",
    "    end_mem = df.memory_usage().sum() / 1024**2\n",
    "    if verbose: print('Mem. usage decreased to {:5.2f} Mb ({:.1f}% reduction)'.format(end_mem, 100 * (start_mem - end_mem) / start_mem))\n",
    "    return df"
   ]
  },
  {
   "cell_type": "code",
   "execution_count": 6,
   "metadata": {},
   "outputs": [
    {
     "name": "stdout",
     "output_type": "stream",
     "text": [
      "Mem. usage decreased to 650.48 Mb (66.8% reduction)\n"
     ]
    }
   ],
   "source": [
    "import numpy as np\n",
    "train= reduce_mem_usage(train)\n",
    "\n",
    "\n"
   ]
  },
  {
   "cell_type": "code",
   "execution_count": 7,
   "metadata": {},
   "outputs": [
    {
     "name": "stderr",
     "output_type": "stream",
     "text": [
      "/opt/anaconda3/lib/python3.7/site-packages/pandas/core/frame.py:3997: SettingWithCopyWarning: \n",
      "A value is trying to be set on a copy of a slice from a DataFrame\n",
      "\n",
      "See the caveats in the documentation: https://pandas.pydata.org/pandas-docs/stable/user_guide/indexing.html#returning-a-view-versus-a-copy\n",
      "  errors=errors,\n"
     ]
    },
    {
     "data": {
      "text/plain": [
       "0"
      ]
     },
     "execution_count": 7,
     "metadata": {},
     "output_type": "execute_result"
    }
   ],
   "source": [
    "from sklearn.model_selection import train_test_split\n",
    "    \n",
    "X_train,X_test = train_test_split(train,test_size=0.2,random_state=42)\n",
    "\n",
    "y_train = X_train['isFraud'].copy()\n",
    "y_test = X_test['isFraud'].copy()\n",
    "X_train.drop(['isFraud'],axis=1,inplace=True)\n",
    "X_test.drop(['isFraud'],axis=1,inplace=True)\n",
    "\n",
    "\n",
    "del train\n",
    "gc.collect()\n"
   ]
  },
  {
   "cell_type": "code",
   "execution_count": 8,
   "metadata": {},
   "outputs": [],
   "source": [
    "# X_train.iloc[:,~X_train.columns.isin(v_cols)][X_train.card6 == 'credit'][X_train.isFraud == 1]"
   ]
  },
  {
   "cell_type": "code",
   "execution_count": 9,
   "metadata": {},
   "outputs": [],
   "source": [
    "def encode_FE(df1, df2, cols):\n",
    "    for col in cols:\n",
    "        df = pd.concat([df1[col],df2[col]])\n",
    "        fq_encode = df.value_counts(dropna=True, normalize=True).to_dict()\n",
    "        \n",
    "        df1[col] = df1[col].map(fq_encode)\n",
    "        df1[col] = df1[col].astype('float32')\n",
    "        df2[col]  = df2[col].map(fq_encode)\n",
    "        df2[col] = df2[col].astype('float32')\n",
    "    "
   ]
  },
  {
   "cell_type": "code",
   "execution_count": 10,
   "metadata": {},
   "outputs": [],
   "source": [
    "def addUids(df): \n",
    "    df['uid'] = df['card1'].astype(str)+'_'+df['addr1'].astype(str)\n",
    "\n",
    "    df['uid2'] = df['uid'].astype(str)+'_'+df['card3'].astype(str)+'_'+df['card5'].astype(str)\n",
    "\n",
    "    df['uid3'] = df['uid2'].astype(str)+'_'+df['card2'].astype(str)+'_'+df['addr2'].astype(str)\n",
    "\n",
    "    \n",
    "    \n",
    "    return df\n",
    "\n",
    "X_train = addUids(X_train)\n",
    "X_test = addUids(X_test)"
   ]
  },
  {
   "cell_type": "code",
   "execution_count": 11,
   "metadata": {},
   "outputs": [],
   "source": [
    "agg_cols = ['uid','uid2','uid3']\n",
    "for col in agg_cols:\n",
    "    for agg_type in ['mean','std']:\n",
    "        new_col_name = col+'_TransactionAmt_'+agg_type\n",
    "        temp_df = pd.concat([X_train[[col, 'TransactionAmt']], X_test[[col,'TransactionAmt']]])\n",
    "        temp_df = temp_df.groupby([col])['TransactionAmt'].agg([agg_type]).reset_index().rename(\n",
    "                                                columns={agg_type: new_col_name})\n",
    "\n",
    "        temp_df.index = list(temp_df[col])\n",
    "        temp_df = temp_df[new_col_name].to_dict()   \n",
    "\n",
    "        X_train[new_col_name] = X_train[col].map(temp_df)\n",
    "        X_test[new_col_name]  = X_test[col].map(temp_df)\n",
    "        X_train[new_col_name]= X_train[new_col_name].replace(np.inf,X_train[new_col_name].median())\n",
    "        X_test[new_col_name]= X_test[new_col_name].replace(np.inf,X_test[new_col_name].median())"
   ]
  },
  {
   "cell_type": "code",
   "execution_count": 12,
   "metadata": {},
   "outputs": [],
   "source": [
    "def emailMatch(df):\n",
    "    df['email_match'] = np.where((df.P_emaildomain==df.R_emaildomain),1,0)\n",
    "    return df"
   ]
  },
  {
   "cell_type": "code",
   "execution_count": 13,
   "metadata": {},
   "outputs": [],
   "source": [
    "X_train = emailMatch(X_train)\n",
    "X_test = emailMatch(X_test)\n"
   ]
  },
  {
   "cell_type": "code",
   "execution_count": 14,
   "metadata": {},
   "outputs": [],
   "source": [
    "import datetime\n",
    "def setTime(df):\n",
    "    START_DATE = datetime.datetime.strptime('2017-11-30', '%Y-%m-%d')\n",
    "    \n",
    "    df['DT'] = df['TransactionDT'].apply(lambda x: (START_DATE + datetime.timedelta(seconds = x)))\n",
    "    df['DT_M'] = (df['DT'].dt.year-2017)*12 + df['DT'].dt.month\n",
    "    df['DT_W'] = (df['DT'].dt.year-2017)*52 + df['DT'].dt.weekofyear\n",
    "    df['DT_D'] = (df['DT'].dt.year-2017)*365 + df['DT'].dt.dayofyear\n",
    "    \n",
    "    df['DT_hour'] = df['DT'].dt.hour\n",
    "    df['DT_day_week'] = df['DT'].dt.dayofweek\n",
    "    df['DT_day'] = df['DT'].dt.day\n",
    "    \n",
    "    return df\n",
    "    \n",
    "X_train=setTime(X_train)\n",
    "X_test=setTime(X_test)"
   ]
  },
  {
   "cell_type": "code",
   "execution_count": 15,
   "metadata": {},
   "outputs": [],
   "source": [
    "for col in ['DT_M','DT_W','DT_D']:\n",
    "    temp_df = pd.concat([X_train[[col]], X_test[[col]]])\n",
    "    fq_encode = temp_df[col].value_counts().to_dict()\n",
    "            \n",
    "    X_train[col+'_total'] = X_train[col].map(fq_encode)\n",
    "    X_test[col+'_total']  = X_test[col].map(fq_encode)\n",
    "    \n",
    "periods = ['DT_M','DT_W','DT_D']\n",
    "i_cols = ['uid3']\n",
    "for period in periods:\n",
    "    for col in i_cols:\n",
    "        new_column = col + '_' + period\n",
    "            \n",
    "        temp_df = pd.concat([X_train[[col,period]], X_test[[col,period]]])\n",
    "        temp_df[new_column] = temp_df[col].astype(str) + '_' + (temp_df[period]).astype(str)\n",
    "        fq_encode = temp_df[new_column].value_counts().to_dict()\n",
    "            \n",
    "        X_train[new_column] = (X_train[col].astype(str) + '_' + X_train[period].astype(str)).map(fq_encode)\n",
    "        X_test[new_column]  = (X_test[col].astype(str) + '_' + X_test[period].astype(str)).map(fq_encode)\n",
    "        \n",
    "        X_train[new_column] /= X_train[period+'_total']\n",
    "        X_test[new_column]  /= X_test[period+'_total']"
   ]
  },
  {
   "cell_type": "code",
   "execution_count": 16,
   "metadata": {},
   "outputs": [],
   "source": [
    "cat = ['ProductCD','card4','card6','addr1','addr2','P_emaildomain','R_emaildomain',\n",
    "       'M1','M2','M3','M4','M5','M6','M7','M8','M9','DeviceType','DeviceInfo','id_12','id_13',\n",
    "      'id_14','id_15','id_16','id_17','id_18','id_19','id_20','id_21','id_22','id_23','id_24',\n",
    "       'id_25','id_26','id_27','id_28','id_29','id_30','id_31','id_32','id_33','id_34','id_35',\n",
    "       'id_36','id_37','id_38','uid','uid2','uid3']\n",
    "\n",
    "encode_FE(X_train,X_test,cat)\n"
   ]
  },
  {
   "cell_type": "code",
   "execution_count": 17,
   "metadata": {},
   "outputs": [
    {
     "name": "stdout",
     "output_type": "stream",
     "text": [
      "More than 90% null: 12\n",
      "More than 90% repeated value: 66\n"
     ]
    }
   ],
   "source": [
    "def many_null_var(data):\n",
    "    many_null_cols = [col for col in data.columns if data[col].isnull().sum() / data.shape[0] > 0.9]\n",
    "    return many_null_cols\n",
    "\n",
    "def many_repeated_val(data):\n",
    "    big_top_value_cols = [col for col in data.columns if data[col].value_counts(dropna=False, normalize=True).values[0] > 0.9]\n",
    "    return big_top_value_cols\n",
    "\n",
    "def get_useless_columns(data):\n",
    "    too_many_null = many_null_var(data)\n",
    "    print(\"More than 90% null: \" + str(len(too_many_null)))\n",
    "    too_many_repeated = many_repeated_val(data)\n",
    "    print(\"More than 90% repeated value: \" + str(len(too_many_repeated)))\n",
    "    cols_to_drop = list(set(too_many_null + too_many_repeated))\n",
    "    \n",
    "    return cols_to_drop\n",
    "\n",
    "cols_to_drop = get_useless_columns(X_train)"
   ]
  },
  {
   "cell_type": "code",
   "execution_count": 18,
   "metadata": {},
   "outputs": [
    {
     "name": "stdout",
     "output_type": "stream",
     "text": [
      "(472432, 390)\n",
      "(118108, 390)\n",
      "(472432,)\n"
     ]
    }
   ],
   "source": [
    "X_train = X_train.drop(cols_to_drop, axis=1)\n",
    "X_test = X_test.drop(cols_to_drop, axis=1)\n",
    "print(X_train.shape)\n",
    "print(X_test.shape)\n",
    "print(y_train.shape)"
   ]
  },
  {
   "cell_type": "code",
   "execution_count": 19,
   "metadata": {},
   "outputs": [],
   "source": [
    "X_train = X_train.fillna(-999)\n",
    "X_test = X_test.fillna(-999)"
   ]
  },
  {
   "cell_type": "code",
   "execution_count": 20,
   "metadata": {},
   "outputs": [
    {
     "name": "stdout",
     "output_type": "stream",
     "text": [
      "0\n",
      "0\n"
     ]
    }
   ],
   "source": [
    "print(X_train.isnull().sum().max())\n",
    "print(X_test.isnull().sum().max())"
   ]
  },
  {
   "cell_type": "code",
   "execution_count": 21,
   "metadata": {},
   "outputs": [],
   "source": [
    "X_train = X_train.drop(['TransactionDT', 'DT'], axis=1)\n",
    "X_test = X_test.drop(['TransactionDT', 'DT'], axis=1)"
   ]
  },
  {
   "cell_type": "code",
   "execution_count": 22,
   "metadata": {},
   "outputs": [],
   "source": [
    "import numpy as np\n",
    "import pandas as pd\n",
    "import matplotlib.pyplot as plt\n",
    "import seaborn as sns\n",
    "from sklearn.metrics import roc_auc_score\n",
    "import lightgbm as lgb\n",
    "import xgboost as xgb\n",
    "from sklearn.model_selection import KFold\n",
    "from sklearn.model_selection import cross_val_score\n",
    "from sklearn.model_selection import cross_val_predict\n",
    "from sklearn.metrics import precision_score,recall_score,confusion_matrix\n",
    "\n",
    "# X_train = pd.read_csv('train_split_eng.csv')\n",
    "# y_train = pd.read_csv('y_train_split_eng.csv')\n",
    "# X_test = pd.read_csv('test_split_eng.csv')\n",
    "# y_test = pd.read_csv('y_test_split_eng.csv')"
   ]
  },
  {
   "cell_type": "code",
   "execution_count": 28,
   "metadata": {},
   "outputs": [
    {
     "name": "stderr",
     "output_type": "stream",
     "text": [
      "[I 2020-05-15 15:37:41,011] Finished trial#0 with value: 0.7423307764773912 with parameters: {'max_depth': 2, 'lambda': 0.19071036037446856, 'alpha': 3.877662872085165e-05, 'eta': 0.08051292653938749, 'gamma': 1.9879570421946918e-05}. Best is trial#0 with value: 0.7423307764773912.\n",
      "[I 2020-05-15 15:37:52,027] Finished trial#1 with value: 0.7772536028649646 with parameters: {'max_depth': 6, 'lambda': 0.0001390476057318567, 'alpha': 1.0373302449279087e-06, 'eta': 1.5032463253426956e-07, 'gamma': 0.00045305983528810806}. Best is trial#1 with value: 0.7772536028649646.\n",
      "[I 2020-05-15 15:38:05,141] Finished trial#2 with value: 0.845135305575374 with parameters: {'max_depth': 9, 'lambda': 1.3050305335589883e-06, 'alpha': 1.8962012367591105e-05, 'eta': 0.00042139763431331845, 'gamma': 6.569939245975586e-05}. Best is trial#2 with value: 0.845135305575374.\n",
      "[I 2020-05-15 15:38:20,252] Finished trial#3 with value: 0.844527356761593 with parameters: {'max_depth': 9, 'lambda': 0.04162975521943276, 'alpha': 1.632961561892165e-07, 'eta': 1.236549536290553e-06, 'gamma': 1.1473442735601285e-05}. Best is trial#2 with value: 0.845135305575374.\n",
      "[I 2020-05-15 15:38:32,462] Finished trial#4 with value: 0.7882806770380653 with parameters: {'max_depth': 4, 'lambda': 0.0028756268675722615, 'alpha': 2.8324083894361776e-05, 'eta': 0.03911877543130291, 'gamma': 0.0002662362777011233}. Best is trial#2 with value: 0.845135305575374.\n",
      "[I 2020-05-15 15:38:46,034] Finished trial#5 with value: 0.8203609724310584 with parameters: {'max_depth': 9, 'lambda': 1.412479748951272e-08, 'alpha': 5.682988776566912e-06, 'eta': 6.643247897419313e-08, 'gamma': 0.0018560895243516773}. Best is trial#2 with value: 0.845135305575374.\n",
      "[I 2020-05-15 15:38:59,478] Finished trial#6 with value: 0.7519820472074037 with parameters: {'max_depth': 5, 'lambda': 1.0169343835915202e-07, 'alpha': 2.0392965643464815e-05, 'eta': 6.603477219494348e-05, 'gamma': 0.0013191089864556043}. Best is trial#2 with value: 0.845135305575374.\n",
      "[I 2020-05-15 15:39:12,034] Finished trial#7 with value: 0.7507178775911794 with parameters: {'max_depth': 5, 'lambda': 0.0005343830027365023, 'alpha': 8.873410879054781e-07, 'eta': 1.797881636939387e-07, 'gamma': 2.0866105175405886e-08}. Best is trial#2 with value: 0.845135305575374.\n",
      "[I 2020-05-15 15:39:24,361] Finished trial#8 with value: 0.8524180280321909 with parameters: {'max_depth': 7, 'lambda': 0.001052403696042595, 'alpha': 6.302938389304689e-05, 'eta': 0.07572988570376214, 'gamma': 1.150820116959907e-06}. Best is trial#8 with value: 0.8524180280321909.\n",
      "[I 2020-05-15 15:39:34,913] Finished trial#9 with value: 0.7808198044129022 with parameters: {'max_depth': 3, 'lambda': 5.43909868980911e-08, 'alpha': 0.0033570483591075354, 'eta': 0.02751688213182116, 'gamma': 2.0727269188353787e-08}. Best is trial#8 with value: 0.8524180280321909.\n",
      "[I 2020-05-15 15:39:46,879] Finished trial#10 with value: 0.9064894043534901 with parameters: {'max_depth': 7, 'lambda': 8.741596499999273e-06, 'alpha': 0.1962909194747318, 'eta': 0.6942461115031507, 'gamma': 0.20293025354718347}. Best is trial#10 with value: 0.9064894043534901.\n",
      "[I 2020-05-15 15:40:01,444] Finished trial#11 with value: 0.910606564973634 with parameters: {'max_depth': 7, 'lambda': 2.6275980188856367e-06, 'alpha': 0.7067074284726176, 'eta': 0.8048988658065965, 'gamma': 0.9551949704082017}. Best is trial#11 with value: 0.910606564973634.\n",
      "[I 2020-05-15 15:40:14,560] Finished trial#12 with value: 0.9004792344031538 with parameters: {'max_depth': 7, 'lambda': 3.512421439356593e-06, 'alpha': 0.7043942881425502, 'eta': 0.8832723912680942, 'gamma': 0.4702318472705501}. Best is trial#11 with value: 0.910606564973634.\n",
      "[I 2020-05-15 15:40:27,147] Finished trial#13 with value: 0.8953881346455369 with parameters: {'max_depth': 7, 'lambda': 7.318981023688481e-06, 'alpha': 0.22387782416221255, 'eta': 0.9673386106170658, 'gamma': 0.6182553456963501}. Best is trial#11 with value: 0.910606564973634.\n",
      "[I 2020-05-15 15:40:38,854] Finished trial#14 with value: 0.8366400195583087 with parameters: {'max_depth': 8, 'lambda': 1.1535569975969997e-05, 'alpha': 0.016891737176944033, 'eta': 0.002388728445048426, 'gamma': 0.039307709961057674}. Best is trial#11 with value: 0.910606564973634.\n",
      "[I 2020-05-15 15:40:49,899] Finished trial#15 with value: 0.902195264775449 with parameters: {'max_depth': 6, 'lambda': 3.388930891705539e-07, 'alpha': 0.0019504151715954972, 'eta': 0.7531439395291797, 'gamma': 0.036676588175385494}. Best is trial#11 with value: 0.910606564973634.\n",
      "[I 2020-05-15 15:41:01,596] Finished trial#16 with value: 0.8380502006163791 with parameters: {'max_depth': 8, 'lambda': 3.8156765141521145e-05, 'alpha': 0.05778987765549191, 'eta': 0.0040954590208976205, 'gamma': 0.04282918566880396}. Best is trial#11 with value: 0.910606564973634.\n",
      "[I 2020-05-15 15:41:12,334] Finished trial#17 with value: 0.7808882490456203 with parameters: {'max_depth': 6, 'lambda': 9.771447593165536e-07, 'alpha': 0.0016999030028407626, 'eta': 3.206447522871001e-05, 'gamma': 0.6455384499154934}. Best is trial#11 with value: 0.910606564973634.\n",
      "[I 2020-05-15 15:41:24,061] Finished trial#18 with value: 0.8344052157534327 with parameters: {'max_depth': 8, 'lambda': 5.7562608751131855e-05, 'alpha': 0.9363526102086988, 'eta': 6.334122232862554e-06, 'gamma': 0.012791750134383746}. Best is trial#11 with value: 0.910606564973634.\n",
      "[I 2020-05-15 15:41:34,518] Finished trial#19 with value: 0.8424303012176622 with parameters: {'max_depth': 4, 'lambda': 1.3255471932836003e-08, 'alpha': 0.1013582932341622, 'eta': 0.18700088563734532, 'gamma': 0.18419328864534854}. Best is trial#11 with value: 0.910606564973634.\n",
      "[I 2020-05-15 15:41:45,993] Finished trial#20 with value: 0.8179174343352612 with parameters: {'max_depth': 7, 'lambda': 0.010742153932754728, 'alpha': 1.281731542146342e-08, 'eta': 0.004489384456620952, 'gamma': 0.005570108672528786}. Best is trial#11 with value: 0.910606564973634.\n",
      "[I 2020-05-15 15:41:57,138] Finished trial#21 with value: 0.8998987896225914 with parameters: {'max_depth': 6, 'lambda': 3.0092127011849316e-07, 'alpha': 0.0004959740115142867, 'eta': 0.6238073657824733, 'gamma': 0.10060350320857366}. Best is trial#11 with value: 0.910606564973634.\n",
      "[I 2020-05-15 15:42:08,578] Finished trial#22 with value: 0.8839267387546051 with parameters: {'max_depth': 6, 'lambda': 4.531594277417909e-07, 'alpha': 0.011881577254477227, 'eta': 0.36453467909674026, 'gamma': 0.8771809054766894}. Best is trial#11 with value: 0.910606564973634.\n",
      "[I 2020-05-15 15:42:21,477] Finished trial#23 with value: 0.9110318939305745 with parameters: {'max_depth': 8, 'lambda': 1.3829795778146523e-05, 'alpha': 0.0005431886676695862, 'eta': 0.937715000026627, 'gamma': 0.019662285458121827}. Best is trial#23 with value: 0.9110318939305745.\n",
      "[I 2020-05-15 15:42:33,026] Finished trial#24 with value: 0.8423679649974505 with parameters: {'max_depth': 8, 'lambda': 1.2510132483919658e-05, 'alpha': 0.0003368936591355176, 'eta': 0.009137788772629591, 'gamma': 0.008202601534437476}. Best is trial#23 with value: 0.9110318939305745.\n",
      "[I 2020-05-15 15:42:44,585] Finished trial#25 with value: 0.8345358833677834 with parameters: {'max_depth': 8, 'lambda': 0.00019937793221595044, 'alpha': 0.8702309738105741, 'eta': 0.0008129673325531028, 'gamma': 0.180349281691204}. Best is trial#23 with value: 0.9110318939305745.\n",
      "[I 2020-05-15 15:42:55,839] Finished trial#26 with value: 0.8773280112883463 with parameters: {'max_depth': 7, 'lambda': 2.4692810940215325e-06, 'alpha': 0.028530049971374493, 'eta': 0.23473193764794759, 'gamma': 0.9715788559022217}. Best is trial#23 with value: 0.9110318939305745.\n",
      "[I 2020-05-15 15:43:07,784] Finished trial#27 with value: 0.8595372372158836 with parameters: {'max_depth': 9, 'lambda': 3.21378619959563e-05, 'alpha': 0.29493182411829166, 'eta': 0.021163960673614386, 'gamma': 0.1442936487747099}. Best is trial#23 with value: 0.9110318939305745.\n",
      "[I 2020-05-15 15:43:19,593] Finished trial#28 with value: 0.8742013258736416 with parameters: {'max_depth': 8, 'lambda': 1.6089484648866525e-05, 'alpha': 0.007469683800051083, 'eta': 0.13875744514062166, 'gamma': 0.003230514607732741}. Best is trial#23 with value: 0.9110318939305745.\n",
      "[I 2020-05-15 15:43:30,727] Finished trial#29 with value: 0.8531422324245653 with parameters: {'max_depth': 7, 'lambda': 4.011308334649141e-06, 'alpha': 0.00028897870478119967, 'eta': 0.06697796769611873, 'gamma': 0.01580357796254103}. Best is trial#23 with value: 0.9110318939305745.\n",
      "[I 2020-05-15 15:43:40,885] Finished trial#30 with value: 0.618546372405024 with parameters: {'max_depth': 2, 'lambda': 0.6232374042616765, 'alpha': 0.11272458383981888, 'eta': 0.0004897553022339699, 'gamma': 8.797459878402744e-06}. Best is trial#23 with value: 0.9110318939305745.\n",
      "[I 2020-05-15 15:43:51,883] Finished trial#31 with value: 0.8966341618236631 with parameters: {'max_depth': 6, 'lambda': 1.838141222471836e-07, 'alpha': 0.0009392145728237837, 'eta': 0.6330248380912122, 'gamma': 0.02994717719822461}. Best is trial#23 with value: 0.9110318939305745.\n",
      "[I 2020-05-15 15:44:02,858] Finished trial#32 with value: 0.8900779247077464 with parameters: {'max_depth': 5, 'lambda': 4.888145004562078e-08, 'alpha': 0.0027429367612156535, 'eta': 0.8551359345395306, 'gamma': 0.06888413077742415}. Best is trial#23 with value: 0.9110318939305745.\n",
      "[I 2020-05-15 15:44:13,983] Finished trial#33 with value: 0.8651968124362307 with parameters: {'max_depth': 6, 'lambda': 1.0546627165574274e-06, 'alpha': 9.686886481764603e-05, 'eta': 0.22185863716680101, 'gamma': 0.2797300693782369}. Best is trial#23 with value: 0.9110318939305745.\n",
      "[I 2020-05-15 15:44:25,314] Finished trial#34 with value: 0.9020668311964987 with parameters: {'max_depth': 7, 'lambda': 0.00019484076318271182, 'alpha': 0.005444212532602878, 'eta': 0.9262982990934457, 'gamma': 0.0005049901687250773}. Best is trial#23 with value: 0.9110318939305745.\n",
      "[I 2020-05-15 15:44:35,969] Finished trial#35 with value: 0.8180017469283274 with parameters: {'max_depth': 6, 'lambda': 5.153607047183056e-07, 'alpha': 4.754441367499513e-06, 'eta': 0.014518077997635243, 'gamma': 0.00010905436903821228}. Best is trial#23 with value: 0.9110318939305745.\n",
      "[I 2020-05-15 15:44:48,242] Finished trial#36 with value: 0.6909913908849453 with parameters: {'max_depth': 9, 'lambda': 1.879392680067735e-06, 'alpha': 0.03527065818880352, 'eta': 1.4146884087820631e-08, 'gamma': 0.01863042468673824}. Best is trial#23 with value: 0.9110318939305745.\n",
      "[I 2020-05-15 15:44:58,726] Finished trial#37 with value: 0.8331822099784788 with parameters: {'max_depth': 5, 'lambda': 0.00010791353690881838, 'alpha': 0.34354549667066353, 'eta': 0.13503745340716905, 'gamma': 0.001229583459178973}. Best is trial#23 with value: 0.9110318939305745.\n",
      "[I 2020-05-15 15:45:09,076] Finished trial#38 with value: 0.7907772528490196 with parameters: {'max_depth': 4, 'lambda': 3.5506782050596545e-08, 'alpha': 0.00019715597863034724, 'eta': 0.062031392599388044, 'gamma': 0.08799941483025865}. Best is trial#23 with value: 0.9110318939305745.\n",
      "[I 2020-05-15 15:45:21,098] Finished trial#39 with value: 0.9020438275879604 with parameters: {'max_depth': 8, 'lambda': 5.226915861558294e-06, 'alpha': 7.983148489371186e-06, 'eta': 0.37601302241717605, 'gamma': 0.003853686674199615}. Best is trial#23 with value: 0.9110318939305745.\n",
      "[I 2020-05-15 15:45:34,007] Finished trial#40 with value: 0.858840832894728 with parameters: {'max_depth': 9, 'lambda': 1.5562219261338693e-07, 'alpha': 0.0008082520249167364, 'eta': 0.02975136243755409, 'gamma': 1.1167096470971712e-07}. Best is trial#23 with value: 0.9110318939305745.\n",
      "[I 2020-05-15 15:45:45,502] Finished trial#41 with value: 0.9076614737977802 with parameters: {'max_depth': 7, 'lambda': 0.00020650471627009685, 'alpha': 0.004470394852851555, 'eta': 0.6631771368848646, 'gamma': 0.0003911844428414166}. Best is trial#23 with value: 0.9110318939305745.\n",
      "[I 2020-05-15 15:45:56,931] Finished trial#42 with value: 0.8962752294988492 with parameters: {'max_depth': 7, 'lambda': 0.0008901610821867935, 'alpha': 0.0015139392175402817, 'eta': 0.38988286469800243, 'gamma': 0.0003689871379225085}. Best is trial#23 with value: 0.9110318939305745.\n",
      "[I 2020-05-15 15:46:07,636] Finished trial#43 with value: 0.8312515019075427 with parameters: {'max_depth': 6, 'lambda': 1.861163424117868e-05, 'alpha': 0.004965564728781341, 'eta': 0.08242349798664314, 'gamma': 1.94751382348154e-05}. Best is trial#23 with value: 0.9110318939305745.\n",
      "[I 2020-05-15 15:46:18,846] Finished trial#44 with value: 0.9004006710945281 with parameters: {'max_depth': 7, 'lambda': 0.00036237634225756086, 'alpha': 0.019723588306232442, 'eta': 0.9416177658827642, 'gamma': 6.64872238793602e-05}. Best is trial#23 with value: 0.9110318939305745.\n",
      "[I 2020-05-15 15:46:30,122] Finished trial#45 with value: 0.8943085924443946 with parameters: {'max_depth': 7, 'lambda': 0.0035632446442135516, 'alpha': 4.3914083836202175e-05, 'eta': 0.9322792475157451, 'gamma': 5.030545625859715e-06}. Best is trial#23 with value: 0.9110318939305745.\n",
      "[I 2020-05-15 15:46:40,528] Finished trial#46 with value: 0.83016329533739 with parameters: {'max_depth': 5, 'lambda': 5.2221807414003834e-05, 'alpha': 0.00013614445519197788, 'eta': 0.1281216370153623, 'gamma': 0.38675560605347836}. Best is trial#23 with value: 0.9110318939305745.\n",
      "[I 2020-05-15 15:46:51,960] Finished trial#47 with value: 0.857108010858816 with parameters: {'max_depth': 8, 'lambda': 8.894031598583778e-07, 'alpha': 0.07415457718076154, 'eta': 0.04208173196392786, 'gamma': 0.000949044180868724}. Best is trial#23 with value: 0.9110318939305745.\n",
      "[I 2020-05-15 15:47:02,821] Finished trial#48 with value: 0.8852065741194288 with parameters: {'max_depth': 6, 'lambda': 4.452204228627604e-06, 'alpha': 0.011093361112159226, 'eta': 0.3834863732537142, 'gamma': 0.04163431774025748}. Best is trial#23 with value: 0.9110318939305745.\n",
      "[I 2020-05-15 15:47:13,688] Finished trial#49 with value: 0.8011629000312157 with parameters: {'max_depth': 7, 'lambda': 0.0024120420923022133, 'alpha': 0.0023420110035079988, 'eta': 1.0700735398932163e-06, 'gamma': 0.0001480785725763798}. Best is trial#23 with value: 0.9110318939305745.\n",
      "[I 2020-05-15 15:47:25,916] Finished trial#50 with value: 0.854684928503523 with parameters: {'max_depth': 9, 'lambda': 7.404477346643091e-06, 'alpha': 0.17206322768864696, 'eta': 0.0077986523152286675, 'gamma': 0.002448521130799699}. Best is trial#23 with value: 0.9110318939305745.\n",
      "[I 2020-05-15 15:47:38,013] Finished trial#51 with value: 0.9172386201714754 with parameters: {'max_depth': 8, 'lambda': 0.00020239687126693125, 'alpha': 0.004665647335234992, 'eta': 0.5036629403097614, 'gamma': 0.0005174954046501649}. Best is trial#51 with value: 0.9172386201714754.\n",
      "[I 2020-05-15 15:47:49,744] Finished trial#52 with value: 0.9036771274719115 with parameters: {'max_depth': 8, 'lambda': 0.0003654296141488174, 'alpha': 0.0010401260259949958, 'eta': 0.9941652648117855, 'gamma': 0.0006448835468997673}. Best is trial#51 with value: 0.9172386201714754.\n",
      "[I 2020-05-15 15:48:01,602] Finished trial#53 with value: 0.8992241271086616 with parameters: {'max_depth': 8, 'lambda': 0.0003885800800280075, 'alpha': 0.0006334355945740743, 'eta': 0.3281157469045972, 'gamma': 0.0006615282629884764}. Best is trial#51 with value: 0.9172386201714754.\n",
      "[I 2020-05-15 15:48:13,950] Finished trial#54 with value: 0.875012835592964 with parameters: {'max_depth': 9, 'lambda': 8.578650363839737e-05, 'alpha': 0.5597352220906683, 'eta': 0.1190817047769646, 'gamma': 3.138454481067209e-05}. Best is trial#51 with value: 0.9172386201714754.\n",
      "[I 2020-05-15 15:48:25,795] Finished trial#55 with value: 0.9099178592581769 with parameters: {'max_depth': 8, 'lambda': 0.0009989395738067266, 'alpha': 0.04227682734820501, 'eta': 0.9652018177832905, 'gamma': 0.0002441278208197199}. Best is trial#51 with value: 0.9172386201714754.\n"
     ]
    },
    {
     "name": "stderr",
     "output_type": "stream",
     "text": [
      "[I 2020-05-15 15:48:37,693] Finished trial#56 with value: 0.9090355770444849 with parameters: {'max_depth': 8, 'lambda': 0.013670590155651925, 'alpha': 0.05845756233213682, 'eta': 0.45990866176920864, 'gamma': 2.7592790773227965e-05}. Best is trial#51 with value: 0.9172386201714754.\n",
      "[I 2020-05-15 15:48:49,684] Finished trial#57 with value: 0.8457735974753258 with parameters: {'max_depth': 9, 'lambda': 0.036379926710835175, 'alpha': 0.04914043491662289, 'eta': 0.00010190821405679674, 'gamma': 0.00021162719014338602}. Best is trial#51 with value: 0.9172386201714754.\n",
      "[I 2020-05-15 15:49:01,558] Finished trial#58 with value: 0.9128835258838901 with parameters: {'max_depth': 8, 'lambda': 0.011114992780530861, 'alpha': 0.01829654158642477, 'eta': 0.4303407216449489, 'gamma': 2.7200528014256025e-06}. Best is trial#51 with value: 0.9172386201714754.\n",
      "[I 2020-05-15 15:49:13,360] Finished trial#59 with value: 0.8829091121732372 with parameters: {'max_depth': 8, 'lambda': 0.030457328254069726, 'alpha': 0.017806943600769898, 'eta': 0.22167227633458156, 'gamma': 1.574251812356977e-06}. Best is trial#51 with value: 0.9172386201714754.\n",
      "[I 2020-05-15 15:49:25,381] Finished trial#60 with value: 0.8608730755289483 with parameters: {'max_depth': 8, 'lambda': 0.12046585962330102, 'alpha': 0.009207885107960785, 'eta': 0.04997984407017082, 'gamma': 4.4029638723424174e-07}. Best is trial#51 with value: 0.9172386201714754.\n",
      "[I 2020-05-15 15:49:37,659] Finished trial#61 with value: 0.9144777406633481 with parameters: {'max_depth': 8, 'lambda': 0.012416086526390795, 'alpha': 0.004671168838971148, 'eta': 0.5326272712689113, 'gamma': 4.088949160946947e-05}. Best is trial#51 with value: 0.9172386201714754.\n",
      "[I 2020-05-15 15:49:49,698] Finished trial#62 with value: 0.9092624650973624 with parameters: {'max_depth': 8, 'lambda': 0.012402149734782706, 'alpha': 0.030962914434128873, 'eta': 0.48557931523155995, 'gamma': 2.67055025208347e-05}. Best is trial#51 with value: 0.9172386201714754.\n",
      "[I 2020-05-15 15:50:02,496] Finished trial#63 with value: 0.8950471101931926 with parameters: {'max_depth': 9, 'lambda': 0.006473956675612441, 'alpha': 0.021128101223235177, 'eta': 0.23963114263944463, 'gamma': 3.3274368162443765e-06}. Best is trial#51 with value: 0.9172386201714754.\n",
      "[I 2020-05-15 15:50:14,122] Finished trial#64 with value: 0.8665654009641235 with parameters: {'max_depth': 8, 'lambda': 0.1888519020495686, 'alpha': 0.03796116335493365, 'eta': 0.09887377335311517, 'gamma': 4.6406258828884374e-05}. Best is trial#51 with value: 0.9172386201714754.\n",
      "[I 2020-05-15 15:50:26,955] Finished trial#65 with value: 0.9197086544771353 with parameters: {'max_depth': 9, 'lambda': 0.0018734223894110182, 'alpha': 0.009764540273228036, 'eta': 0.5227055307859177, 'gamma': 1.0561133405024294e-05}. Best is trial#65 with value: 0.9197086544771353.\n",
      "[I 2020-05-15 15:50:39,685] Finished trial#66 with value: 0.8856951581467674 with parameters: {'max_depth': 9, 'lambda': 0.0014838520122475737, 'alpha': 0.008080955731110355, 'eta': 0.19920856087833755, 'gamma': 5.285038540995394e-07}. Best is trial#65 with value: 0.9197086544771353.\n",
      "[I 2020-05-15 15:50:51,641] Finished trial#67 with value: 0.858414620676869 with parameters: {'max_depth': 9, 'lambda': 0.005137983166234348, 'alpha': 0.003467277366852416, 'eta': 0.01880365202716617, 'gamma': 1.3753844779399041e-05}. Best is trial#65 with value: 0.9197086544771353.\n",
      "[I 2020-05-15 15:51:03,654] Finished trial#68 with value: 0.9156329763839779 with parameters: {'max_depth': 8, 'lambda': 0.0009844080693840458, 'alpha': 0.00038924356656786657, 'eta': 0.6452594077014265, 'gamma': 7.45948538699082e-06}. Best is trial#65 with value: 0.9197086544771353.\n",
      "[I 2020-05-15 15:51:16,512] Finished trial#69 with value: 0.9239894238143488 with parameters: {'max_depth': 9, 'lambda': 0.0744615495162741, 'alpha': 0.00026916926217062515, 'eta': 0.5017812162737263, 'gamma': 5.163403182938015e-06}. Best is trial#69 with value: 0.9239894238143488.\n",
      "[I 2020-05-15 15:51:28,648] Finished trial#70 with value: 0.8669070789648397 with parameters: {'max_depth': 9, 'lambda': 0.001709097246950933, 'alpha': 0.000524889395758551, 'eta': 0.03969760382755117, 'gamma': 4.67400398784747e-06}. Best is trial#69 with value: 0.9239894238143488.\n",
      "[I 2020-05-15 15:51:41,335] Finished trial#71 with value: 0.9005594833489172 with parameters: {'max_depth': 9, 'lambda': 0.06010710939998113, 'alpha': 0.00026290033335429127, 'eta': 0.29300049648926285, 'gamma': 1.7640538095132918e-06}. Best is trial#69 with value: 0.9239894238143488.\n",
      "[I 2020-05-15 15:51:53,300] Finished trial#72 with value: 0.9175002627620347 with parameters: {'max_depth': 8, 'lambda': 0.7444723008785491, 'alpha': 0.001437405168242176, 'eta': 0.5515806014810885, 'gamma': 1.238211958862707e-05}. Best is trial#69 with value: 0.9239894238143488.\n",
      "[I 2020-05-15 15:52:05,269] Finished trial#73 with value: 0.9139768087777836 with parameters: {'max_depth': 8, 'lambda': 0.46115928483152446, 'alpha': 8.577850365252244e-05, 'eta': 0.5105224333080157, 'gamma': 8.46929251116415e-06}. Best is trial#69 with value: 0.9239894238143488.\n",
      "[I 2020-05-15 15:52:17,282] Finished trial#74 with value: 0.916578688379019 with parameters: {'max_depth': 8, 'lambda': 0.852855181918345, 'alpha': 6.545996364352095e-05, 'eta': 0.5517339676847883, 'gamma': 8.288386714289508e-06}. Best is trial#69 with value: 0.9239894238143488.\n",
      "[I 2020-05-15 15:52:29,723] Finished trial#75 with value: 0.8791122549631191 with parameters: {'max_depth': 9, 'lambda': 0.6368347200583214, 'alpha': 2.145755156465918e-05, 'eta': 0.14060047571869227, 'gamma': 7.455760300823155e-06}. Best is trial#69 with value: 0.9239894238143488.\n",
      "[I 2020-05-15 15:52:41,763] Finished trial#76 with value: 0.9175897730058911 with parameters: {'max_depth': 8, 'lambda': 0.3073179974972515, 'alpha': 6.249617990850891e-05, 'eta': 0.5987729732696999, 'gamma': 1.3659289134535703e-05}. Best is trial#69 with value: 0.9239894238143488.\n",
      "[I 2020-05-15 15:52:54,207] Finished trial#77 with value: 0.8696279448121236 with parameters: {'max_depth': 9, 'lambda': 0.08327692927652053, 'alpha': 6.253499987329352e-05, 'eta': 0.08120775996406998, 'gamma': 1.4704804297287586e-05}. Best is trial#69 with value: 0.9239894238143488.\n",
      "[I 2020-05-15 15:53:05,994] Finished trial#78 with value: 0.8781402036745324 with parameters: {'max_depth': 8, 'lambda': 0.3277556327953558, 'alpha': 1.3729074154961253e-05, 'eta': 0.1824241063638369, 'gamma': 5.4528752564256e-05}. Best is trial#69 with value: 0.9239894238143488.\n",
      "[I 2020-05-15 15:53:17,315] Finished trial#79 with value: 0.9121974214203689 with parameters: {'max_depth': 7, 'lambda': 0.2630073700280744, 'alpha': 0.00018282004089169244, 'eta': 0.6321358842665283, 'gamma': 7.041553511174777e-07}. Best is trial#69 with value: 0.9239894238143488.\n",
      "[I 2020-05-15 15:53:30,111] Finished trial#80 with value: 0.900222042088761 with parameters: {'max_depth': 9, 'lambda': 0.06947735252132343, 'alpha': 0.0012564171779740688, 'eta': 0.2850700736756757, 'gamma': 0.00010809753691642711}. Best is trial#69 with value: 0.9239894238143488.\n",
      "[I 2020-05-15 15:53:42,136] Finished trial#81 with value: 0.920502754573737 with parameters: {'max_depth': 8, 'lambda': 0.4988658053107773, 'alpha': 9.587878783863747e-05, 'eta': 0.6438433814308415, 'gamma': 6.579555919048603e-06}. Best is trial#69 with value: 0.9239894238143488.\n",
      "[I 2020-05-15 15:53:54,113] Finished trial#82 with value: 0.9205882626426619 with parameters: {'max_depth': 8, 'lambda': 0.9587593757142083, 'alpha': 3.861229526215352e-05, 'eta': 0.606104841977469, 'gamma': 5.950285883654786e-06}. Best is trial#69 with value: 0.9239894238143488.\n",
      "[I 2020-05-15 15:54:06,599] Finished trial#83 with value: 0.8756369063450494 with parameters: {'max_depth': 8, 'lambda': 0.7547733446602275, 'alpha': 5.411135209053517e-05, 'eta': 0.16095239246776027, 'gamma': 5.107090849079846e-06}. Best is trial#69 with value: 0.9239894238143488.\n",
      "[I 2020-05-15 15:54:18,634] Finished trial#84 with value: 0.9204562588130756 with parameters: {'max_depth': 8, 'lambda': 0.8919043527498658, 'alpha': 3.318848136066528e-05, 'eta': 0.6268465516711295, 'gamma': 2.6099733593281457e-06}. Best is trial#69 with value: 0.9239894238143488.\n",
      "[I 2020-05-15 15:54:29,953] Finished trial#85 with value: 0.9172455439017528 with parameters: {'max_depth': 7, 'lambda': 0.9912584344257466, 'alpha': 3.0661825237046385e-05, 'eta': 0.9540388646691117, 'gamma': 8.56976600382358e-07}. Best is trial#69 with value: 0.9239894238143488.\n",
      "[I 2020-05-15 15:54:41,034] Finished trial#86 with value: 0.8527073477492256 with parameters: {'max_depth': 7, 'lambda': 0.17961047886178402, 'alpha': 1.957318650067194e-06, 'eta': 0.07975624960649505, 'gamma': 2.5383079138829086e-07}. Best is trial#69 with value: 0.9239894238143488.\n",
      "[I 2020-05-15 15:54:51,152] Finished trial#87 with value: 0.8192455756603212 with parameters: {'max_depth': 1, 'lambda': 0.9175285548800283, 'alpha': 2.9785662132824447e-05, 'eta': 0.968639481933354, 'gamma': 9.05556438486601e-07}. Best is trial#69 with value: 0.9239894238143488.\n",
      "[I 2020-05-15 15:55:02,389] Finished trial#88 with value: 0.8850970206470361 with parameters: {'max_depth': 7, 'lambda': 0.3905587762933628, 'alpha': 7.80360429149961e-06, 'eta': 0.3053541330131104, 'gamma': 1.86088485832776e-07}. Best is trial#69 with value: 0.9239894238143488.\n",
      "[I 2020-05-15 15:55:15,118] Finished trial#89 with value: 0.8875330170534518 with parameters: {'max_depth': 9, 'lambda': 0.1182648093993053, 'alpha': 1.3074203009325009e-05, 'eta': 0.21317800783425797, 'gamma': 2.631818742148967e-06}. Best is trial#69 with value: 0.9239894238143488.\n",
      "[I 2020-05-15 15:55:27,308] Finished trial#90 with value: 0.9139533522149281 with parameters: {'max_depth': 8, 'lambda': 0.46574855323815584, 'alpha': 0.00011532564252859939, 'eta': 0.9480880577462846, 'gamma': 1.132827382357885e-06}. Best is trial#69 with value: 0.9239894238143488.\n",
      "[I 2020-05-15 15:55:39,474] Finished trial#91 with value: 0.9172462298040045 with parameters: {'max_depth': 8, 'lambda': 0.8475495613066155, 'alpha': 3.067723671870973e-05, 'eta': 0.5609717299871078, 'gamma': 1.8493283561240503e-06}. Best is trial#69 with value: 0.9239894238143488.\n",
      "[I 2020-05-15 15:55:51,445] Finished trial#92 with value: 0.9020865169146633 with parameters: {'max_depth': 8, 'lambda': 0.27295666400899965, 'alpha': 3.958730557775221e-06, 'eta': 0.36539025533037445, 'gamma': 1.4819626783056079e-06}. Best is trial#69 with value: 0.9239894238143488.\n",
      "[I 2020-05-15 15:56:02,815] Finished trial#93 with value: 0.9028850122858358 with parameters: {'max_depth': 7, 'lambda': 0.8966384404937323, 'alpha': 3.094233223358729e-05, 'eta': 0.9684578779976775, 'gamma': 6.586044096985539e-08}. Best is trial#69 with value: 0.9239894238143488.\n",
      "[I 2020-05-15 15:56:15,701] Finished trial#94 with value: 0.9275826974712098 with parameters: {'max_depth': 9, 'lambda': 0.5172621512635303, 'alpha': 1.4769514906937e-05, 'eta': 0.7074044301666008, 'gamma': 3.5633954724479078e-06}. Best is trial#94 with value: 0.9275826974712098.\n",
      "[I 2020-05-15 15:56:28,104] Finished trial#95 with value: 0.8741279666865817 with parameters: {'max_depth': 9, 'lambda': 0.5412760270252447, 'alpha': 1.789158747194789e-05, 'eta': 0.11532027276764623, 'gamma': 3.972111812917041e-06}. Best is trial#94 with value: 0.9275826974712098.\n",
      "[I 2020-05-15 15:56:41,281] Finished trial#96 with value: 0.9295616354707645 with parameters: {'max_depth': 9, 'lambda': 0.13566321238073373, 'alpha': 2.7493796467413147e-06, 'eta': 0.7325531701663303, 'gamma': 2.357793178002584e-06}. Best is trial#96 with value: 0.9295616354707645.\n",
      "[I 2020-05-15 15:56:54,079] Finished trial#97 with value: 0.90190438236602 with parameters: {'max_depth': 9, 'lambda': 0.020445904707612317, 'alpha': 2.593039852431544e-06, 'eta': 0.3036948250748324, 'gamma': 2.2897846501778304e-06}. Best is trial#96 with value: 0.9295616354707645.\n",
      "[I 2020-05-15 15:57:06,688] Finished trial#98 with value: 0.883854390626289 with parameters: {'max_depth': 9, 'lambda': 0.11941908840054874, 'alpha': 7.901025909522133e-08, 'eta': 0.18836952780328953, 'gamma': 1.2627741355323049e-05}. Best is trial#96 with value: 0.9295616354707645.\n",
      "[I 2020-05-15 15:57:19,528] Finished trial#99 with value: 0.9251831638873294 with parameters: {'max_depth': 9, 'lambda': 0.2054260116231229, 'alpha': 9.251787991069295e-06, 'eta': 0.6439507959317387, 'gamma': 1.7239462893446415e-05}. Best is trial#96 with value: 0.9295616354707645.\n"
     ]
    },
    {
     "name": "stdout",
     "output_type": "stream",
     "text": [
      "FrozenTrial(number=96, value=0.9295616354707645, datetime_start=datetime.datetime(2020, 5, 15, 15, 56, 28, 116344), datetime_complete=datetime.datetime(2020, 5, 15, 15, 56, 41, 281511), params={'max_depth': 9, 'lambda': 0.13566321238073373, 'alpha': 2.7493796467413147e-06, 'eta': 0.7325531701663303, 'gamma': 2.357793178002584e-06}, distributions={'max_depth': IntUniformDistribution(high=9, low=1, step=1), 'lambda': LogUniformDistribution(high=1.0, low=1e-08), 'alpha': LogUniformDistribution(high=1.0, low=1e-08), 'eta': LogUniformDistribution(high=1.0, low=1e-08), 'gamma': LogUniformDistribution(high=1.0, low=1e-08)}, user_attrs={}, system_attrs={}, intermediate_values={}, trial_id=96, state=TrialState.COMPLETE)\n",
      "Number of finished trials: 100\n",
      "Best trial:\n",
      "  Value: 0.9295616354707645\n",
      "  Params: \n",
      "    max_depth: 9\n",
      "    lambda: 0.13566321238073373\n",
      "    alpha: 2.7493796467413147e-06\n",
      "    eta: 0.7325531701663303\n",
      "    gamma: 2.357793178002584e-06\n"
     ]
    }
   ],
   "source": [
    "import optuna \n",
    "\n",
    "N_TRIALS = 100\n",
    "def objective(trial):\n",
    "    X_dtrain, X_valid, y_dtrain, y_valid = train_test_split(X_train, y_train, test_size=0.2, random_state=42)\n",
    "    dtrain = xgb.DMatrix(X_dtrain, label=y_dtrain)\n",
    "    dvalid = xgb.DMatrix(X_valid, label=y_valid)\n",
    "\n",
    "    param = {\n",
    "        \"silent\": 1,\n",
    "        \"tree_method\":\"hist\",\n",
    "        \"seed\" : 42,\n",
    "        \"objective\": \"binary:logistic\",\n",
    "        \"max_depth\" : trial.suggest_int(\"max_depth\", 1, 9),\n",
    "        \"lambda\": trial.suggest_loguniform(\"lambda\", 1e-8, 1.0),\n",
    "        \"alpha\": trial.suggest_loguniform(\"alpha\", 1e-8, 1.0),\n",
    "        \"eta\" : trial.suggest_loguniform(\"eta\", 1e-8, 1.0),\n",
    "        \"gamma\" : trial.suggest_loguniform(\"gamma\", 1e-8, 1.0)\n",
    "    }\n",
    "\n",
    "   \n",
    "\n",
    "    bst = xgb.train(param, dtrain)\n",
    "    predictions = bst.predict(dvalid)\n",
    "    \n",
    "    roc = roc_auc_score(y_valid, predictions)\n",
    "    return roc\n",
    "\n",
    "\n",
    "\n",
    "study = optuna.create_study(direction=\"maximize\")\n",
    "study.optimize(objective, n_trials=100)\n",
    "print(study.best_trial)\n",
    "\n",
    "print(\"Number of finished trials: {}\".format(len(study.trials)))\n",
    "\n",
    "print(\"Best trial:\")\n",
    "trial = study.best_trial\n",
    "\n",
    "print(\"  Value: {}\".format(trial.value))\n",
    "\n",
    "print(\"  Params: \")\n",
    "for key, value in trial.params.items():\n",
    "        print(\"    {}: {}\".format(key, value))"
   ]
  },
  {
   "cell_type": "code",
   "execution_count": 23,
   "metadata": {},
   "outputs": [],
   "source": [
    "import joblib\n",
    "# joblib.dump(study, 'xgb_final.pkl')"
   ]
  },
  {
   "cell_type": "code",
   "execution_count": 24,
   "metadata": {},
   "outputs": [],
   "source": [
    "xgb_clf = joblib.load('xgb_final.pkl')"
   ]
  },
  {
   "cell_type": "code",
   "execution_count": 27,
   "metadata": {},
   "outputs": [
    {
     "data": {
      "text/plain": [
       "{'max_depth': 9,\n",
       " 'lambda': 0.13566321238073373,\n",
       " 'alpha': 2.7493796467413147e-06,\n",
       " 'eta': 0.7325531701663303,\n",
       " 'gamma': 2.357793178002584e-06,\n",
       " 'tree_method': 'hist',\n",
       " 'seed': 42,\n",
       " 'objective': 'binary:logistic'}"
      ]
     },
     "execution_count": 27,
     "metadata": {},
     "output_type": "execute_result"
    }
   ],
   "source": [
    "params = xgb_clf.best_trial.params\n",
    "params.update({\n",
    "        \"tree_method\":\"hist\",\n",
    "        \"seed\" : 42,\n",
    "        \"objective\": \"binary:logistic\",})\n",
    "params"
   ]
  },
  {
   "cell_type": "code",
   "execution_count": 29,
   "metadata": {},
   "outputs": [
    {
     "name": "stdout",
     "output_type": "stream",
     "text": [
      "[0]\tvalidation_0-auc:0.840505\n",
      "Will train until validation_0-auc hasn't improved in 200 rounds.\n",
      "[99]\tvalidation_0-auc:0.950042\n",
      "[0]\tvalidation_0-auc:0.810599\n",
      "Will train until validation_0-auc hasn't improved in 200 rounds.\n",
      "[99]\tvalidation_0-auc:0.95345\n",
      "[0]\tvalidation_0-auc:0.817011\n",
      "Will train until validation_0-auc hasn't improved in 200 rounds.\n",
      "[99]\tvalidation_0-auc:0.950207\n",
      "[0]\tvalidation_0-auc:0.807011\n",
      "Will train until validation_0-auc hasn't improved in 200 rounds.\n",
      "[99]\tvalidation_0-auc:0.948529\n",
      "[0]\tvalidation_0-auc:0.841213\n",
      "Will train until validation_0-auc hasn't improved in 200 rounds.\n",
      "[99]\tvalidation_0-auc:0.950008\n",
      "####################\n",
      "Out of folds AUC= 0.9505259444672531\n"
     ]
    }
   ],
   "source": [
    "oof = np.zeros(len(X_train))\n",
    "preds = np.zeros(len(X_test))\n",
    "\n",
    "NFOLDS = 5\n",
    "cols = X_train.columns\n",
    "skf = KFold(n_splits=NFOLDS)\n",
    "for i, (idxT, idxV) in enumerate( skf.split(X_train, y_train) ):\n",
    "    \n",
    "   \n",
    "    clf = xgb.XGBClassifier(\n",
    "             max_depth= 9,\n",
    "             reg_lambda= 0.13566321238073373,\n",
    "             reg_alpha= 2.7493796467413147e-06,\n",
    "             learning_rate= 0.7325531701663303,\n",
    "             gamma= 2.357793178002584e-06,\n",
    "             tree_method= 'hist',\n",
    "             seed= 42,\n",
    "             objective= 'binary:logistic',\n",
    "    )        \n",
    "    h = clf.fit(X_train[cols].iloc[idxT], y_train.iloc[idxT], \n",
    "            eval_set=[(X_train[cols].iloc[idxV],y_train.iloc[idxV])],\n",
    "            verbose=100, early_stopping_rounds=200,eval_metric='auc')\n",
    "    \n",
    "    oof[idxV] += clf.predict_proba(X_train[cols].iloc[idxV])[:,1]\n",
    "    preds += clf.predict_proba(X_test[cols])[:,1]/skf.n_splits\n",
    "    del h, clf\n",
    "    x=gc.collect()\n",
    "print('#'*20)\n",
    "print ('Out of folds AUC=',roc_auc_score(y_train,oof))"
   ]
  },
  {
   "cell_type": "code",
   "execution_count": 23,
   "metadata": {},
   "outputs": [
    {
     "data": {
      "image/png": "[encoded data removed]",
      "text/plain": [
       "<Figure size 1152x1152 with 1 Axes>"
      ]
     },
     "metadata": {
      "needs_background": "light"
     },
     "output_type": "display_data"
    }
   ],
   "source": [
    "feature_importances['average'] = feature_importances[[f'fold_{fold_n + 1}' for fold_n in range(folds.n_splits)]].mean(axis=1)\n",
    "\n",
    "\n",
    "plt.figure(figsize=(16, 16))\n",
    "sns.barplot(data=feature_importances.sort_values(by='average', ascending=False).head(50), x='average', y='feature');\n",
    "plt.title('50 TOP feature importance over {} folds average'.format(folds.n_splits));"
   ]
  },
  {
   "cell_type": "code",
   "execution_count": null,
   "metadata": {},
   "outputs": [],
   "source": []
  }
 ],
 "metadata": {
  "kernelspec": {
   "display_name": "Python 3",
   "language": "python",
   "name": "python3"
  },
  "language_info": {
   "codemirror_mode": {
    "name": "ipython",
    "version": 3
   },
   "file_extension": ".py",
   "mimetype": "text/x-python",
   "name": "python",
   "nbconvert_exporter": "python",
   "pygments_lexer": "ipython3",
   "version": "3.7.6"
  }
 },
 "nbformat": 4,
 "nbformat_minor": 4
}
